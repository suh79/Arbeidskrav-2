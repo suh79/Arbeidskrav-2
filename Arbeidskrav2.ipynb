{
 "cells": [
  {
   "cell_type": "markdown",
   "metadata": {},
   "source": [
    "<h1> Arbeidskrav 2 i faget py1010 </h1>\n",
    "<h5>innlevert av Siri Undeland Haugen</h5>\n",
    "</>\n",
    "<h3>Oppgave 1, din alder i 2024</h3>"
   ]
  },
  {
   "cell_type": "code",
   "execution_count": null,
   "metadata": {},
   "outputs": [],
   "source": [
    "alder = int(input('Hvilket år er du født?')) \n",
    "print(\"Gratulerer, i år er du\", 2024 - alder, (\"år !\"))"
   ]
  },
  {
   "cell_type": "markdown",
   "metadata": {},
   "source": [
    "<h3>Oppgave 2 Klassefest,\n",
    "<br> math.ceil tar et desimaltall og returnerer det nærmeste heltallet slik at vi får et greit antall pizzaer til klassefesten.</h3>"
   ]
  },
  {
   "cell_type": "code",
   "execution_count": null,
   "metadata": {},
   "outputs": [],
   "source": [
    "import math\n",
    "antall_elever = int(input('Skriv inn antall elever:' ))\n",
    "print(\"Hvis\", antall_elever, \"elever kommer i klassefesten, trenger vi å kjøpe\", math.ceil(antall_elever * 0.25), \"pizzaer\")"
   ]
  },
  {
   "cell_type": "markdown",
   "metadata": {},
   "source": [
    "<h3>Oppgave 3 Regne om fra grader til radianer</h3>"
   ]
  },
  {
   "cell_type": "code",
   "execution_count": null,
   "metadata": {},
   "outputs": [],
   "source": [
    "import numpy as np\n",
    "v_grad = float(input('Skriv inn antall grader:'))\n",
    "v_rad = v_grad*np.pi/180\n",
    "print(\"Jippi!! Antall grader som du angav til\", round(v_grad,2), \"gir\", round(v_rad, 2), \"radinar!\")"
   ]
  },
  {
   "cell_type": "markdown",
   "metadata": {},
   "source": [
    "<h3>Oppgave 4 Dictionary, <br>\n",
    "En samling av datalementer som kan ha forskjellige datatyper.<br>\n",
    "Her vist som en landliste med hovedstad og antall innbyggere i millioner i hovedstaden.</h3>"
   ]
  },
  {
   "cell_type": "code",
   "execution_count": null,
   "metadata": {},
   "outputs": [],
   "source": [
    "import pprint\n",
    "data = {\n",
    "    \"Norge\": [\"Oslo\", 0.634],\n",
    "    \"England\": [\"London\", 8.982],\n",
    "    \"Frankrike\": [\"Paris\", 2.161],\n",
    "    \"Italia\": [\"Roma\", 2.873]\n",
    "}\n",
    "valgt_land=input(\"Skriv inn landet du ønsker å vite antall innbyggere i:\")\n",
    "print(data[valgt_land][0], \"er hovedstaden i\", valgt_land, \"og det er\", data[valgt_land][1], \"mill. innbyggere i\", valgt_land,)\n",
    "legg_til_land=input(\"Hvilket nytt land ønsker du å legge til i samlingen?\") \n",
    "legg_til_hovedstad=input(\"Hva er hovedstaden til landet?\")\n",
    "legg_til_antallInbyggere=float(input(\"Hvor mange millioner innbyggere bor der?\"))\n",
    "data[legg_til_land]=[legg_til_hovedstad,legg_til_antallInbyggere]\n",
    "pprint.pprint(data)"
   ]
  },
  {
   "cell_type": "markdown",
   "metadata": {},
   "source": [
    "<h3>Oppgave 5 <br>\n",
    "Program med funksjon som tar a og b som inn argumenter, og som regner ut arealt og ytre omkrets<br>\n",
    "til en figur satt sammen av en rettvinklet trekant og en halvsirkel, som så skrives til skjerm.</h3>\n",
    "<img src=\"Figur rettvinklet trekant med halvsirkel.png\">"
   ]
  },
  {
   "cell_type": "code",
   "execution_count": null,
   "metadata": {},
   "outputs": [],
   "source": [
    "import math\n",
    "verdi_a=int(input(\"Oppgi ønsket verdi for verdien a:\"))\n",
    "verdi_b=int(input(\"Oppgi ønsket verdi for verdien b:\"))\n",
    "\n",
    "# Areal\n",
    "areal_trekant = (verdi_a*verdi_b)/2\n",
    "areal_halvsirkel = (math.pi*verdi_a**2)/2\n",
    "print(\"Arealet til figuren er:\", round(areal_trekant + areal_halvsirkel,2))\n",
    "\n",
    "# Ytre omkrets - samlet lengde av de sorte strekene\n",
    "omkrets_halvsirkel = (2*math.pi*verdi_a)/2  \n",
    "finne_lengde_C = math.sqrt(verdi_a**2+verdi_b**2)\n",
    "print(\"Ytre omkrets til figuren er:\", round(omkrets_halvsirkel+finne_lengde_C+verdi_b,2))"
   ]
  },
  {
   "cell_type": "markdown",
   "metadata": {},
   "source": [
    "<h3>Oppgave 6 <br>\n",
    "Skriv en kode som plotter funksjonen 𝑓(𝑥)=−-x^2 −5, for x på intervallet [-10,10]. <br>\n",
    "Hint: np.linspace(-10, 10, 200) gir en array med 200 punkter jevnt fordelt på intervallet         \n",
    "[-10,10]. </h3>"
   ]
  },
  {
   "cell_type": "code",
   "execution_count": null,
   "metadata": {},
   "outputs": [],
   "source": [
    "import numpy as np\n",
    "import matplotlib.pyplot as plt\n",
    "\n",
    "# Definere intervallet\n",
    "x = np.linspace(-10, 10, 200)\n",
    "# Definer funksjonen\n",
    "f_x = -x**2 - 5\n",
    "\n",
    "# Lag plottet\n",
    "plt.plot(x, f_x, label='f(x) = -x^2 - 5')\n",
    "plt.title('Plot av funksjonen f(x) = -x^2 - 5')\n",
    "plt.xlabel('x')\n",
    "plt.ylabel('f(x)')\n",
    "plt.axhline(0, color='black',linewidth=0.5, ls='--')\n",
    "plt.axvline(0, color='black',linewidth=0.5, ls='--')\n",
    "plt.grid()\n",
    "plt.legend()\n",
    "plt.show()     \n"
   ]
  }
 ],
 "metadata": {
  "kernelspec": {
   "display_name": "Python 3",
   "language": "python",
   "name": "python3"
  },
  "language_info": {
   "codemirror_mode": {
    "name": "ipython",
    "version": 3
   },
   "file_extension": ".py",
   "mimetype": "text/x-python",
   "name": "python",
   "nbconvert_exporter": "python",
   "pygments_lexer": "ipython3",
   "version": "3.11.9"
  }
 },
 "nbformat": 4,
 "nbformat_minor": 2
}
